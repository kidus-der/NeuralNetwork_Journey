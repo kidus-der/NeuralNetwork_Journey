{
 "cells": [
  {
   "cell_type": "code",
   "execution_count": 34,
   "metadata": {},
   "outputs": [],
   "source": [
    "import math\n",
    "import numpy as np\n",
    "import matplotlib.pyplot as plt\n",
    "from graphviz import Digraph\n",
    "%matplotlib inline"
   ]
  },
  {
   "cell_type": "markdown",
   "metadata": {},
   "source": [
    "We're gonna start with implementing a 'Value' object for our micrograd"
   ]
  },
  {
   "cell_type": "code",
   "execution_count": 35,
   "metadata": {},
   "outputs": [],
   "source": [
    "class Value:\n",
    "\n",
    "    def __init__(self, data, _children=(), _op='', label=''):\n",
    "\n",
    "        self.data = data\n",
    "        self._prev = set(_children) # previous components of current output\n",
    "        self._op = _op # operation of current output\n",
    "        self.label = label # label of current output\n",
    "\n",
    "    def __repr__(self): # outputs a more readable version of the object\n",
    "\n",
    "        return (f\"Value(data={self.data})\")\n",
    "    \n",
    "    def __add__(self, other):\n",
    "\n",
    "        output = Value(self.data + other.data, (self, other), '+')\n",
    "        return output\n",
    "    \n",
    "    def __mul__(self, other):\n",
    "\n",
    "        output = Value(self.data * other.data, (self, other), '*')\n",
    "        return output"
   ]
  },
  {
   "cell_type": "code",
   "execution_count": 36,
   "metadata": {},
   "outputs": [
    {
     "name": "stdout",
     "output_type": "stream",
     "text": [
      "Value(data=5.0)\n",
      "Value(data=6.0)\n",
      "Value(data=23.0)\n"
     ]
    }
   ],
   "source": [
    "x = Value(3.0, label='x')\n",
    "y = Value(2.0, label='y')\n",
    "z = Value(7.0, label='z')\n",
    "print(x+y)\n",
    "print(x*y)\n",
    "print(x*z + y)"
   ]
  },
  {
   "cell_type": "markdown",
   "metadata": {},
   "source": [
    "^^^Addition and Multiplication Function well^^^"
   ]
  },
  {
   "cell_type": "code",
   "execution_count": 37,
   "metadata": {},
   "outputs": [
    {
     "name": "stdout",
     "output_type": "stream",
     "text": [
      "{Value(data=2.0), Value(data=21.0)}\n"
     ]
    }
   ],
   "source": [
    "c = x*z + y\n",
    "print(a._prev) #first value of prev should be 21 and second should be 2"
   ]
  },
  {
   "cell_type": "code",
   "execution_count": 38,
   "metadata": {},
   "outputs": [
    {
     "name": "stdout",
     "output_type": "stream",
     "text": [
      "+\n"
     ]
    }
   ],
   "source": [
    "print(a._op)"
   ]
  },
  {
   "cell_type": "markdown",
   "metadata": {},
   "source": [
    "Now that we know _prev and _op work fine, we need a method of visualizing our results and the progression of nodes as things become more complex"
   ]
  },
  {
   "cell_type": "code",
   "execution_count": 32,
   "metadata": {},
   "outputs": [],
   "source": [
    "from graphviz import Digraph\n",
    "import numpy as n\n",
    "def trace(root):\n",
    "\n",
    "    nodes, edges = set(), set()\n",
    "    def build(v):\n",
    "        if v not in nodes:\n",
    "            nodes.add(v)\n",
    "            for child in v._prev:\n",
    "                edges.add((child, v))\n",
    "                build(child)\n",
    "    build(root)\n",
    "    return nodes, edges\n",
    "\n",
    "def draw_dot(root):\n",
    "\n",
    "    dot = Digraph(format='svg', graph_attr={'rankdir': 'LR'})\n",
    "\n",
    "    nodes, edges = trace(root)\n",
    "\n",
    "    for n in nodes:\n",
    "        uid = str(id(n))\n",
    "        dot.node(name = uid, label = \"{ %s | data %.4f | grad %.4f }\" % (n.label, n.data, n.grad), shape = 'record')\n",
    "\n",
    "        if n._op:\n",
    "            dot.node(name = uid + n._op, label = n._op)\n",
    "            dot.edge(uid + n._op, uid)\n",
    "\n",
    "    for n1, n2 in edges:\n",
    "        dot.edge(str(id(n1)), str(id(n2)) + n2._op)\n",
    "\n",
    "    return dot"
   ]
  },
  {
   "cell_type": "code",
   "execution_count": 33,
   "metadata": {},
   "outputs": [
    {
     "ename": "AttributeError",
     "evalue": "'Value' object has no attribute 'label'",
     "output_type": "error",
     "traceback": [
      "\u001b[1;31m---------------------------------------------------------------------------\u001b[0m",
      "\u001b[1;31mAttributeError\u001b[0m                            Traceback (most recent call last)",
      "Cell \u001b[1;32mIn[33], line 1\u001b[0m\n\u001b[1;32m----> 1\u001b[0m \u001b[43mdraw_dot\u001b[49m\u001b[43m(\u001b[49m\u001b[43ma\u001b[49m\u001b[43m)\u001b[49m\n",
      "Cell \u001b[1;32mIn[32], line 23\u001b[0m, in \u001b[0;36mdraw_dot\u001b[1;34m(root)\u001b[0m\n\u001b[0;32m     21\u001b[0m \u001b[38;5;28;01mfor\u001b[39;00m n \u001b[38;5;129;01min\u001b[39;00m nodes:\n\u001b[0;32m     22\u001b[0m     uid \u001b[38;5;241m=\u001b[39m \u001b[38;5;28mstr\u001b[39m(\u001b[38;5;28mid\u001b[39m(n))\n\u001b[1;32m---> 23\u001b[0m     dot\u001b[38;5;241m.\u001b[39mnode(name \u001b[38;5;241m=\u001b[39m uid, label \u001b[38;5;241m=\u001b[39m \u001b[38;5;124m\"\u001b[39m\u001b[38;5;124m{\u001b[39m\u001b[38;5;124m \u001b[39m\u001b[38;5;132;01m%s\u001b[39;00m\u001b[38;5;124m | data \u001b[39m\u001b[38;5;132;01m%.4f\u001b[39;00m\u001b[38;5;124m | grad \u001b[39m\u001b[38;5;132;01m%.4f\u001b[39;00m\u001b[38;5;124m }\u001b[39m\u001b[38;5;124m\"\u001b[39m \u001b[38;5;241m%\u001b[39m (\u001b[43mn\u001b[49m\u001b[38;5;241;43m.\u001b[39;49m\u001b[43mlabel\u001b[49m, n\u001b[38;5;241m.\u001b[39mdata, n\u001b[38;5;241m.\u001b[39mgrad), shape \u001b[38;5;241m=\u001b[39m \u001b[38;5;124m'\u001b[39m\u001b[38;5;124mrecord\u001b[39m\u001b[38;5;124m'\u001b[39m)\n\u001b[0;32m     25\u001b[0m     \u001b[38;5;28;01mif\u001b[39;00m n\u001b[38;5;241m.\u001b[39m_op:\n\u001b[0;32m     26\u001b[0m         dot\u001b[38;5;241m.\u001b[39mnode(name \u001b[38;5;241m=\u001b[39m uid \u001b[38;5;241m+\u001b[39m n\u001b[38;5;241m.\u001b[39m_op, label \u001b[38;5;241m=\u001b[39m n\u001b[38;5;241m.\u001b[39m_op)\n",
      "\u001b[1;31mAttributeError\u001b[0m: 'Value' object has no attribute 'label'"
     ]
    }
   ],
   "source": [
    "draw_dot(a)"
   ]
  }
 ],
 "metadata": {
  "kernelspec": {
   "display_name": "Python 3",
   "language": "python",
   "name": "python3"
  },
  "language_info": {
   "codemirror_mode": {
    "name": "ipython",
    "version": 3
   },
   "file_extension": ".py",
   "mimetype": "text/x-python",
   "name": "python",
   "nbconvert_exporter": "python",
   "pygments_lexer": "ipython3",
   "version": "3.10.5"
  }
 },
 "nbformat": 4,
 "nbformat_minor": 2
}
